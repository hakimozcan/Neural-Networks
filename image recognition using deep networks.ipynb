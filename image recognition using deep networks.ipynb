{
 "cells": [
  {
   "cell_type": "markdown",
   "id": "44300931-0cd9-409e-8ae4-d849f861f8b3",
   "metadata": {
    "tags": []
   },
   "source": [
    "# Install Packages"
   ]
  },
  {
   "cell_type": "code",
   "execution_count": 1,
   "id": "557e311e-32d1-4076-83f7-9751c9fec2cb",
   "metadata": {
    "tags": []
   },
   "outputs": [
    {
     "name": "stderr",
     "output_type": "stream",
     "text": [
      "2023-03-05 13:47:47.807919: I tensorflow/core/platform/cpu_feature_guard.cc:193] This TensorFlow binary is optimized with oneAPI Deep Neural Network Library (oneDNN) to use the following CPU instructions in performance-critical operations:  SSE4.1 SSE4.2\n",
      "To enable them in other operations, rebuild TensorFlow with the appropriate compiler flags.\n"
     ]
    }
   ],
   "source": [
    "from tensorflow import keras\n",
    "import numpy as np\n",
    "import matplotlib.pyplot as plt\n"
   ]
  },
  {
   "cell_type": "markdown",
   "id": "11fb8a60-d461-4385-a8d0-df5b2f7828c9",
   "metadata": {},
   "source": [
    "# Exercise 1: Identifying Handwritten Numbers"
   ]
  },
  {
   "cell_type": "markdown",
   "id": "ff36bec6-27a3-4c52-9340-03dbcccab8d8",
   "metadata": {},
   "source": [
    "We will begin using a very simple image recognition example: classifying hand-written numbers. This is a very useful ability for computers as it allows mail carriers to read hand-written postal codes and house numbers, and thereby sort mail automatically. It also allows banks to read numbers from cheques."
   ]
  },
  {
   "cell_type": "markdown",
   "id": "48cff330-e8c8-42b1-96c4-2e75125e3ed6",
   "metadata": {
    "tags": []
   },
   "source": [
    "#### Question 1: Give a list of applications where automatic recognition of hand-written numbers would be useful (3 points)"
   ]
  },
  {
   "cell_type": "markdown",
   "id": "5609e68f-9e72-4d8a-8ec4-d64b845cb375",
   "metadata": {},
   "source": [
    "1) Digit recognition in scientific experiments\n",
    "2) Scanning and digit recognition in medical forms\n",
    "3) Recognition of numbers written on receipts or invoices for financial tracking\n",
    "4) Handwritten number recognition in logistics and supply chain management\n",
    "5) Digit recognition in retail point of sale systems"
   ]
  },
  {
   "cell_type": "markdown",
   "id": "fd7b13ca-7b32-46f1-9545-b1883d39793a",
   "metadata": {},
   "source": [
    "First, download MNIST and store both train and test tuples:"
   ]
  },
  {
   "cell_type": "code",
   "execution_count": 2,
   "id": "f3208c2d-bcc3-4a80-ba08-f7f297674055",
   "metadata": {},
   "outputs": [],
   "source": [
    "(x_train, y_train), (x_test, y_test) = keras.datasets.mnist.load_data()"
   ]
  },
  {
   "cell_type": "code",
   "execution_count": 14,
   "id": "53a6613d-7881-4556-a762-770d294f2ab3",
   "metadata": {
    "tags": []
   },
   "outputs": [
    {
     "data": {
      "image/png": "[encoded data removed]",
      "text/plain": [
       "<Figure size 640x480 with 1 Axes>"
      ]
     },
     "metadata": {},
     "output_type": "display_data"
    }
   ],
   "source": [
    "# Display the first image in the training set\n",
    "plt.imshow(x_train[0], cmap='gray')\n",
    "plt.show()"
   ]
  },
  {
   "cell_type": "code",
   "execution_count": null,
   "id": "5118bfbb-9303-46bf-bf56-7e4c6bf068c7",
   "metadata": {
    "collapsed": true,
    "jupyter": {
     "outputs_hidden": true
    },
    "tags": []
   },
   "outputs": [
    {
     "data": {
      "text/plain": [
       "array([[  0,   0,   0,   0,   0,   0,   0,   0,   0,   0,   0,   0,   0,\n",
       "          0,   0,   0,   0,   0,   0,   0,   0,   0,   0,   0,   0,   0,\n",
       "          0,   0],\n",
       "       [  0,   0,   0,   0,   0,   0,   0,   0,   0,   0,   0,   0,   0,\n",
       "          0,   0,   0,   0,   0,   0,   0,   0,   0,   0,   0,   0,   0,\n",
       "          0,   0],\n",
       "       [  0,   0,   0,   0,   0,   0,   0,   0,   0,   0,   0,   0,   0,\n",
       "          0,   0,   0,   0,   0,   0,   0,   0,   0,   0,   0,   0,   0,\n",
       "          0,   0],\n",
       "       [  0,   0,   0,   0,   0,   0,   0,   0,   0,   0,   0,   0,   0,\n",
       "          0,   0,   0,   0,   0,   0,   0,   0,   0,   0,   0,   0,   0,\n",
       "          0,   0],\n",
       "       [  0,   0,   0,   0,   0,   0,   0,   0,   0,   0,   0,   0,   0,\n",
       "          0,   0,   0,   0,   0,   0,   0,   0,   0,   0,   0,   0,   0,\n",
       "          0,   0],\n",
       "       [  0,   0,   0,   0,   0,   0,   0,   0,   0,   0,   0,   0,   3,\n",
       "         18,  18,  18, 126, 136, 175,  26, 166, 255, 247, 127,   0,   0,\n",
       "          0,   0],\n",
       "       [  0,   0,   0,   0,   0,   0,   0,   0,  30,  36,  94, 154, 170,\n",
       "        253, 253, 253, 253, 253, 225, 172, 253, 242, 195,  64,   0,   0,\n",
       "          0,   0],\n",
       "       [  0,   0,   0,   0,   0,   0,   0,  49, 238, 253, 253, 253, 253,\n",
       "        253, 253, 253, 253, 251,  93,  82,  82,  56,  39,   0,   0,   0,\n",
       "          0,   0],\n",
       "       [  0,   0,   0,   0,   0,   0,   0,  18, 219, 253, 253, 253, 253,\n",
       "        253, 198, 182, 247, 241,   0,   0,   0,   0,   0,   0,   0,   0,\n",
       "          0,   0],\n",
       "       [  0,   0,   0,   0,   0,   0,   0,   0,  80, 156, 107, 253, 253,\n",
       "        205,  11,   0,  43, 154,   0,   0,   0,   0,   0,   0,   0,   0,\n",
       "          0,   0],\n",
       "       [  0,   0,   0,   0,   0,   0,   0,   0,   0,  14,   1, 154, 253,\n",
       "         90,   0,   0,   0,   0,   0,   0,   0,   0,   0,   0,   0,   0,\n",
       "          0,   0],\n",
       "       [  0,   0,   0,   0,   0,   0,   0,   0,   0,   0,   0, 139, 253,\n",
       "        190,   2,   0,   0,   0,   0,   0,   0,   0,   0,   0,   0,   0,\n",
       "          0,   0],\n",
       "       [  0,   0,   0,   0,   0,   0,   0,   0,   0,   0,   0,  11, 190,\n",
       "        253,  70,   0,   0,   0,   0,   0,   0,   0,   0,   0,   0,   0,\n",
       "          0,   0],\n",
       "       [  0,   0,   0,   0,   0,   0,   0,   0,   0,   0,   0,   0,  35,\n",
       "        241, 225, 160, 108,   1,   0,   0,   0,   0,   0,   0,   0,   0,\n",
       "          0,   0],\n",
       "       [  0,   0,   0,   0,   0,   0,   0,   0,   0,   0,   0,   0,   0,\n",
       "         81, 240, 253, 253, 119,  25,   0,   0,   0,   0,   0,   0,   0,\n",
       "          0,   0],\n",
       "       [  0,   0,   0,   0,   0,   0,   0,   0,   0,   0,   0,   0,   0,\n",
       "          0,  45, 186, 253, 253, 150,  27,   0,   0,   0,   0,   0,   0,\n",
       "          0,   0],\n",
       "       [  0,   0,   0,   0,   0,   0,   0,   0,   0,   0,   0,   0,   0,\n",
       "          0,   0,  16,  93, 252, 253, 187,   0,   0,   0,   0,   0,   0,\n",
       "          0,   0],\n",
       "       [  0,   0,   0,   0,   0,   0,   0,   0,   0,   0,   0,   0,   0,\n",
       "          0,   0,   0,   0, 249, 253, 249,  64,   0,   0,   0,   0,   0,\n",
       "          0,   0],\n",
       "       [  0,   0,   0,   0,   0,   0,   0,   0,   0,   0,   0,   0,   0,\n",
       "          0,  46, 130, 183, 253, 253, 207,   2,   0,   0,   0,   0,   0,\n",
       "          0,   0],\n",
       "       [  0,   0,   0,   0,   0,   0,   0,   0,   0,   0,   0,   0,  39,\n",
       "        148, 229, 253, 253, 253, 250, 182,   0,   0,   0,   0,   0,   0,\n",
       "          0,   0],\n",
       "       [  0,   0,   0,   0,   0,   0,   0,   0,   0,   0,  24, 114, 221,\n",
       "        253, 253, 253, 253, 201,  78,   0,   0,   0,   0,   0,   0,   0,\n",
       "          0,   0],\n",
       "       [  0,   0,   0,   0,   0,   0,   0,   0,  23,  66, 213, 253, 253,\n",
       "        253, 253, 198,  81,   2,   0,   0,   0,   0,   0,   0,   0,   0,\n",
       "          0,   0],\n",
       "       [  0,   0,   0,   0,   0,   0,  18, 171, 219, 253, 253, 253, 253,\n",
       "        195,  80,   9,   0,   0,   0,   0,   0,   0,   0,   0,   0,   0,\n",
       "          0,   0],\n",
       "       [  0,   0,   0,   0,  55, 172, 226, 253, 253, 253, 253, 244, 133,\n",
       "         11,   0,   0,   0,   0,   0,   0,   0,   0,   0,   0,   0,   0,\n",
       "          0,   0],\n",
       "       [  0,   0,   0,   0, 136, 253, 253, 253, 212, 135, 132,  16,   0,\n",
       "          0,   0,   0,   0,   0,   0,   0,   0,   0,   0,   0,   0,   0,\n",
       "          0,   0],\n",
       "       [  0,   0,   0,   0,   0,   0,   0,   0,   0,   0,   0,   0,   0,\n",
       "          0,   0,   0,   0,   0,   0,   0,   0,   0,   0,   0,   0,   0,\n",
       "          0,   0],\n",
       "       [  0,   0,   0,   0,   0,   0,   0,   0,   0,   0,   0,   0,   0,\n",
       "          0,   0,   0,   0,   0,   0,   0,   0,   0,   0,   0,   0,   0,\n",
       "          0,   0],\n",
       "       [  0,   0,   0,   0,   0,   0,   0,   0,   0,   0,   0,   0,   0,\n",
       "          0,   0,   0,   0,   0,   0,   0,   0,   0,   0,   0,   0,   0,\n",
       "          0,   0]], dtype=uint8)"
      ]
     },
     "execution_count": 13,
     "metadata": {},
     "output_type": "execute_result"
    }
   ],
   "source": [
    "x_train[0]"
   ]
  },
  {
   "cell_type": "code",
   "execution_count": 3,
   "id": "31ad5f36-e896-44d8-9470-2969754e51ce",
   "metadata": {
    "collapsed": true,
    "jupyter": {
     "outputs_hidden": true
    },
    "tags": []
   },
   "outputs": [
    {
     "name": "stdout",
     "output_type": "stream",
     "text": [
      "(60000, 28, 28)\n",
      "(10000, 28, 28)\n",
      "(60000,)\n",
      "(10000,)\n"
     ]
    }
   ],
   "source": [
    "print(x_train.shape)\n",
    "print(x_test.shape)\n",
    "print(y_train.shape)\n",
    "print(y_test.shape)"
   ]
  },
  {
   "cell_type": "code",
   "execution_count": 15,
   "id": "3f12cac2-6a3f-436b-a76d-183a2fce3a82",
   "metadata": {
    "collapsed": true,
    "jupyter": {
     "outputs_hidden": true
    },
    "tags": []
   },
   "outputs": [
    {
     "name": "stdout",
     "output_type": "stream",
     "text": [
      "5\n"
     ]
    }
   ],
   "source": [
    "print(y_train[0])"
   ]
  },
  {
   "cell_type": "code",
   "execution_count": 20,
   "id": "f3b7c9d6-13aa-494f-9468-46ce50c1b85c",
   "metadata": {
    "collapsed": true,
    "jupyter": {
     "outputs_hidden": true
    },
    "tags": []
   },
   "outputs": [
    {
     "name": "stdout",
     "output_type": "stream",
     "text": [
      "[5 0 4 ... 5 6 8]\n"
     ]
    }
   ],
   "source": [
    "print(y_train)"
   ]
  },
  {
   "cell_type": "markdown",
   "id": "691662f3-47d6-4b32-89a7-94437c26dba3",
   "metadata": {},
   "source": [
    "### Data preparation"
   ]
  },
  {
   "cell_type": "code",
   "execution_count": 3,
   "id": "f5999233-d369-42c5-8c9e-64a06c38fefd",
   "metadata": {},
   "outputs": [],
   "source": [
    "# Flatten the images from 28x28 to 784 pixels\n",
    "x_train = np.reshape(x_train, (x_train.shape[0], -1))\n",
    "x_test = np.reshape(x_test, (x_test.shape[0], -1))\n",
    "\n",
    "# Normalize the pixel values from [0, 255] to [0, 1]\n",
    "x_train = x_train / 255\n",
    "x_test = x_test / 255\n",
    "\n",
    "# Convert the labels to one-hot encoded form\n",
    "y_train = keras.utils.to_categorical(y_train, 10)\n",
    "y_test = keras.utils.to_categorical(y_test, 10)"
   ]
  },
  {
   "cell_type": "code",
   "execution_count": 11,
   "id": "19ea1b99-14b4-40e9-9a04-e233551cf14a",
   "metadata": {
    "tags": []
   },
   "outputs": [
    {
     "name": "stdout",
     "output_type": "stream",
     "text": [
      "(60000, 784)\n",
      "(10000, 784)\n",
      "(60000, 10)\n",
      "(10000, 10)\n"
     ]
    }
   ],
   "source": [
    "print(x_train.shape)\n",
    "print(x_test.shape)\n",
    "print(y_train.shape)\n",
    "print(y_test.shape)"
   ]
  },
  {
   "cell_type": "code",
   "execution_count": 12,
   "id": "e16a58e1-179d-41a7-83b9-fb6506c5c7a1",
   "metadata": {
    "tags": []
   },
   "outputs": [
    {
     "name": "stdout",
     "output_type": "stream",
     "text": [
      "[[0. 0. 0. ... 0. 0. 0.]\n",
      " [0. 0. 0. ... 0. 0. 0.]\n",
      " [0. 0. 0. ... 0. 0. 0.]\n",
      " ...\n",
      " [0. 0. 0. ... 0. 0. 0.]\n",
      " [0. 0. 0. ... 0. 0. 0.]\n",
      " [0. 0. 0. ... 0. 0. 0.]]\n"
     ]
    }
   ],
   "source": [
    "print(x_train)"
   ]
  },
  {
   "cell_type": "markdown",
   "id": "77f48a00-1365-45da-a614-dffe7971d8e3",
   "metadata": {},
   "source": [
    "### Model definition"
   ]
  },
  {
   "cell_type": "markdown",
   "id": "b597be5e-d9e0-4cf4-bb20-b92703fea56d",
   "metadata": {},
   "source": [
    "For our multi-layer perceptron (MLP), we will pass our 784 input units (flattened pixels) into a 256-unit fully connected hidden layer. This in turn feeds into our label (output) layer whose activation follows a softmax function to give the probability that each image is each digit. We initialise this model using the function keras.Sequential(). The fully-connected layers are defined by the Keras function keras.layers.Dense()."
   ]
  },
  {
   "cell_type": "code",
   "execution_count": 4,
   "id": "7127d3ed-5f4f-4322-8b75-25c577adc19f",
   "metadata": {
    "tags": []
   },
   "outputs": [
    {
     "name": "stderr",
     "output_type": "stream",
     "text": [
      "2023-03-05 13:48:31.475431: I tensorflow/core/platform/cpu_feature_guard.cc:193] This TensorFlow binary is optimized with oneAPI Deep Neural Network Library (oneDNN) to use the following CPU instructions in performance-critical operations:  SSE4.1 SSE4.2\n",
      "To enable them in other operations, rebuild TensorFlow with the appropriate compiler flags.\n"
     ]
    }
   ],
   "source": [
    "# Create a new sequential model object. \n",
    "# A sequential model is a linear stack of layers, where you can easily add, remove, and connect layers.\n",
    "model = keras.Sequential()\n",
    "\n",
    "# Add a new fully connected layer with 256 units to the model. \n",
    "# The input_shape parameter tells Keras the shape of the input data, which is a 1D array of length 784\n",
    "model.add(keras.layers.Dense(256, input_shape=(784,)))\n",
    "\n",
    "# Add another dense layer with 10 units to the model. \n",
    "# The activation parameter specifies the activation function to use for the layer's output. \n",
    "# In this case, the softmax function is used, which produces a probability distribution over the 10 output classes.\n",
    "model.add(keras.layers.Dense(10, activation='softmax'))"
   ]
  },
  {
   "cell_type": "markdown",
   "id": "3ef376eb-4cd4-4c61-bf78-3712782f7db5",
   "metadata": {},
   "source": [
    "To check the resulting model is what you expect, use:"
   ]
  },
  {
   "cell_type": "code",
   "execution_count": 5,
   "id": "185dc663-40e4-4326-a8ab-538b49178afb",
   "metadata": {},
   "outputs": [
    {
     "name": "stdout",
     "output_type": "stream",
     "text": [
      "Model: \"sequential\"\n",
      "_________________________________________________________________\n",
      " Layer (type)                Output Shape              Param #   \n",
      "=================================================================\n",
      " dense (Dense)               (None, 256)               200960    \n",
      "                                                                 \n",
      " dense_1 (Dense)             (None, 10)                2570      \n",
      "                                                                 \n",
      "=================================================================\n",
      "Total params: 203,530\n",
      "Trainable params: 203,530\n",
      "Non-trainable params: 0\n",
      "_________________________________________________________________\n"
     ]
    }
   ],
   "source": [
    "model.summary()"
   ]
  },
  {
   "cell_type": "markdown",
   "id": "073f0922-3774-418c-adb4-3b4a3d160571",
   "metadata": {},
   "source": [
    "Compile the model with suitable loss functions, optimisation procedures, and performance measures, as follows:"
   ]
  },
  {
   "cell_type": "code",
   "execution_count": 34,
   "id": "eb392256-8ecb-4e9b-b9c6-5315f4bfcbe4",
   "metadata": {},
   "outputs": [],
   "source": [
    "# When you compile a model in Keras, you specify the optimizer, loss function, and metrics that you want to use during the training phase.\n",
    "model.compile(loss='categorical_crossentropy',optimizer=keras.optimizers.RMSprop(), metrics='accuracy')"
   ]
  },
  {
   "cell_type": "markdown",
   "id": "226cd83d-901b-405d-b2a5-05fad5d9cef4",
   "metadata": {},
   "source": [
    "### Training and evaluation"
   ]
  },
  {
   "cell_type": "markdown",
   "id": "1bb33f5e-4843-494b-879b-015641213379",
   "metadata": {},
   "source": [
    "Now we will fit the model to our training set, keeping a history of the performance at each stage. We will use 12 training epochs. We will set aside a random 20% of our data to check performance at each training epoch (which don’t change between epochs). In each training epoch, we will use 128 image-label pairs per batch to improve computational efficiency. We will use the verbose argument to tell us what is happening in each epoch."
   ]
  },
  {
   "cell_type": "code",
   "execution_count": 35,
   "id": "78dcae20-8204-4ebf-b211-197180e9067b",
   "metadata": {
    "tags": []
   },
   "outputs": [
    {
     "name": "stdout",
     "output_type": "stream",
     "text": [
      "Epoch 1/12\n",
      "375/375 [==============================] - 1s 3ms/step - loss: 0.3977 - accuracy: 0.8865 - val_loss: 0.2999 - val_accuracy: 0.9143\n",
      "Epoch 2/12\n",
      "375/375 [==============================] - 1s 3ms/step - loss: 0.3068 - accuracy: 0.9135 - val_loss: 0.3232 - val_accuracy: 0.9108\n",
      "Epoch 3/12\n",
      "375/375 [==============================] - 1s 3ms/step - loss: 0.2942 - accuracy: 0.9172 - val_loss: 0.2815 - val_accuracy: 0.9236\n",
      "Epoch 4/12\n",
      "375/375 [==============================] - 1s 3ms/step - loss: 0.2863 - accuracy: 0.9195 - val_loss: 0.2830 - val_accuracy: 0.9235\n",
      "Epoch 5/12\n",
      "375/375 [==============================] - 1s 3ms/step - loss: 0.2826 - accuracy: 0.9215 - val_loss: 0.2740 - val_accuracy: 0.9245\n",
      "Epoch 6/12\n",
      "375/375 [==============================] - 1s 3ms/step - loss: 0.2786 - accuracy: 0.9222 - val_loss: 0.2864 - val_accuracy: 0.9213\n",
      "Epoch 7/12\n",
      "375/375 [==============================] - 1s 3ms/step - loss: 0.2750 - accuracy: 0.9233 - val_loss: 0.2767 - val_accuracy: 0.9245\n",
      "Epoch 8/12\n",
      "375/375 [==============================] - 1s 3ms/step - loss: 0.2731 - accuracy: 0.9235 - val_loss: 0.2787 - val_accuracy: 0.9249\n",
      "Epoch 9/12\n",
      "375/375 [==============================] - 1s 3ms/step - loss: 0.2689 - accuracy: 0.9251 - val_loss: 0.2822 - val_accuracy: 0.9250\n",
      "Epoch 10/12\n",
      "375/375 [==============================] - 1s 3ms/step - loss: 0.2672 - accuracy: 0.9249 - val_loss: 0.2740 - val_accuracy: 0.9255\n",
      "Epoch 11/12\n",
      "375/375 [==============================] - 1s 3ms/step - loss: 0.2649 - accuracy: 0.9258 - val_loss: 0.2764 - val_accuracy: 0.9239\n",
      "Epoch 12/12\n",
      "375/375 [==============================] - 1s 3ms/step - loss: 0.2644 - accuracy: 0.9257 - val_loss: 0.2926 - val_accuracy: 0.9211\n"
     ]
    }
   ],
   "source": [
    "history = model.fit(x_train, y_train, batch_size=128, epochs=12, verbose=1, validation_split=0.2)"
   ]
  },
  {
   "cell_type": "code",
   "execution_count": 10,
   "id": "3c3ccb63-5895-46f2-b5b2-8b5f3b60a4ad",
   "metadata": {},
   "outputs": [
    {
     "name": "stdout",
     "output_type": "stream",
     "text": [
      "(60000, 10)\n"
     ]
    }
   ],
   "source": [
    "print(y_train.shape)"
   ]
  },
  {
   "cell_type": "code",
   "execution_count": 19,
   "id": "b55971d4-907e-4921-894b-1845a64c9bcb",
   "metadata": {
    "tags": []
   },
   "outputs": [
    {
     "name": "stdout",
     "output_type": "stream",
     "text": [
      "Training loss:  [0.3995487093925476, 0.3089773654937744, 0.2952815294265747, 0.28652137517929077, 0.28172698616981506, 0.2779446244239807, 0.27362319827079773, 0.2717183232307434, 0.2688756585121155, 0.2671584486961365, 0.265948623418808, 0.2635749578475952]\n",
      "Training accuracy:  [0.8865416646003723, 0.9125416874885559, 0.917354166507721, 0.9191874861717224, 0.9204999804496765, 0.922208309173584, 0.9235000014305115, 0.9234583377838135, 0.9251875281333923, 0.924958348274231, 0.9269999861717224, 0.9262291789054871]\n"
     ]
    }
   ],
   "source": [
    "# Print the values of the 'loss' and 'accuracy' keys in the history.history dictionary\n",
    "print(\"Training loss: \", history.history['loss'])\n",
    "print(\"Training accuracy: \", history.history['accuracy'])"
   ]
  },
  {
   "cell_type": "code",
   "execution_count": 20,
   "id": "8b249005-0910-4fdb-99b1-90977540283b",
   "metadata": {
    "tags": []
   },
   "outputs": [
    {
     "data": {
      "image/png": "[encoded data removed]",
      "text/plain": [
       "<Figure size 640x480 with 1 Axes>"
      ]
     },
     "metadata": {},
     "output_type": "display_data"
    }
   ],
   "source": [
    "# Plot the training loss\n",
    "plt.plot(history.epoch, history.history['loss'], label='Training loss')\n",
    "plt.plot(history.epoch, history.history['val_loss'], label='Validation loss')\n",
    "plt.title('Training and validation loss')\n",
    "plt.xlabel('Epochs')\n",
    "plt.ylabel('Loss')\n",
    "plt.legend()\n",
    "plt.show()"
   ]
  },
  {
   "cell_type": "code",
   "execution_count": 21,
   "id": "07ec8098-0d9d-44ca-aaeb-aef54e93e62e",
   "metadata": {
    "tags": []
   },
   "outputs": [
    {
     "data": {
      "image/png": "[encoded data removed]",
      "text/plain": [
       "<Figure size 640x480 with 1 Axes>"
      ]
     },
     "metadata": {},
     "output_type": "display_data"
    }
   ],
   "source": [
    "# Plot the training accuracy\n",
    "plt.plot(history.epoch, history.history['accuracy'], label='Training accuracy')\n",
    "plt.plot(history.epoch, history.history['val_accuracy'], label='Validation accuracy')\n",
    "plt.title('Training and validation accuracy')\n",
    "plt.xlabel('Epochs')\n",
    "plt.ylabel('Accuracy')\n",
    "plt.legend()\n",
    "plt.show()"
   ]
  },
  {
   "cell_type": "markdown",
   "id": "d3efa510-792a-4b4a-badd-c8a7e5fb0fb7",
   "metadata": {},
   "source": [
    "#### Question 2: Describe how the accuracy and loss evaluated on the training and validation sets progress differently across epochs, and what this tells us about the generalisation of the model (8 points)."
   ]
  },
  {
   "cell_type": "code",
   "execution_count": null,
   "id": "e4b596ec-61f8-4e99-8e84-83e89ab43566",
   "metadata": {},
   "outputs": [],
   "source": []
  },
  {
   "cell_type": "markdown",
   "id": "f53eb4bf-4038-44eb-85a8-54d2a24fd240",
   "metadata": {},
   "source": [
    "Evaluate the model performance on the test set"
   ]
  },
  {
   "cell_type": "code",
   "execution_count": 37,
   "id": "cfeb9ac8-21c4-4074-9999-586a417dea4f",
   "metadata": {},
   "outputs": [
    {
     "name": "stdout",
     "output_type": "stream",
     "text": [
      "Loss: 0.28824782371520996\n",
      "Accuracy: 0.9211000204086304\n"
     ]
    }
   ],
   "source": [
    "loss, accuracy = model.evaluate(x_test, y_test, verbose=0)\n",
    "print(\"Loss:\", loss)\n",
    "print(\"Accuracy:\", accuracy)"
   ]
  },
  {
   "cell_type": "markdown",
   "id": "84891382-b55b-4faa-ac5a-ff7729a53da3",
   "metadata": {},
   "source": [
    "#### Question 3: Explain whether you think this accuracy is sufficient for some uses of automatic hand-written digit classification, and why (6 points)."
   ]
  },
  {
   "cell_type": "markdown",
   "id": "56c81a01-26ba-4f1c-bc80-3faf04f1498f",
   "metadata": {},
   "source": [
    "An accuracy of 0.92 means that the model is correctly identifying the hand-written digits in 92% of the test set cases. This level of accuracy is generally considered high for a problem of hand-written digit classification and is sufficient for many practical applications.\n",
    "\n",
    "For example, in certain use-cases like postal code recognition or check deposit, having an accuracy of 92% would be acceptable because even a few misclassified digits can still lead to successful delivery or deposit of the mail/check. However, in other use-cases like in security systems where the identification is critical and errors can cause significant harm, a higher accuracy level would be required.\n",
    "\n",
    "Therefore, it ultimately depends on the specific requirements of the application and the acceptable error rate, as to whether an accuracy of 92% would be sufficient or not."
   ]
  },
  {
   "cell_type": "markdown",
   "id": "f51d5a76-dd68-4239-8f68-08f6a67499f6",
   "metadata": {},
   "source": [
    "### Changing model parameters"
   ]
  },
  {
   "cell_type": "markdown",
   "id": "b76d3273-433f-4408-a478-d6827a0dbc63",
   "metadata": {},
   "source": [
    "#### Question 4: Explain how linear activation of units limits the possible computations this model can perform (4 points)."
   ]
  },
  {
   "cell_type": "markdown",
   "id": "bb1663a0-38f4-4d94-801f-eb98c4146521",
   "metadata": {},
   "source": [
    "Linear activation of units in artificial neural netwroks only allows for linear transformations of the input data. In other words, a model with linear activations can only produce an output that is a weighted sum of its inputs, rather than a complex, non-linear mapping of the inputs to the outputs. This limits the possible computations that such a model can perform, as it cannot capture complex non-linear relationships between the inputs and outputs. To overcome this limitation, non-linear activation functions are typically used in deep learning models, allowing them to perform more complex computations and model more intricate relationships between the inputs and outputs."
   ]
  },
  {
   "cell_type": "markdown",
   "id": "55c25138-7f51-4667-a202-ff5529128afe",
   "metadata": {},
   "source": [
    "Now make a similar model with a rectified activation in the first hidden layer, by adding the extra argument:activation = “relu” to the model definition for this layer. Then compile, fit and evaluate the model. "
   ]
  },
  {
   "cell_type": "code",
   "execution_count": 36,
   "id": "e19d0b37-bf48-40ee-a415-c5378ba6e93e",
   "metadata": {
    "tags": []
   },
   "outputs": [
    {
     "name": "stdout",
     "output_type": "stream",
     "text": [
      "Epoch 1/12\n",
      "375/375 [==============================] - 1s 3ms/step - loss: 0.3159 - accuracy: 0.9118 - val_loss: 0.1679 - val_accuracy: 0.9527\n",
      "Epoch 2/12\n",
      "375/375 [==============================] - 1s 3ms/step - loss: 0.1418 - accuracy: 0.9583 - val_loss: 0.1239 - val_accuracy: 0.9639\n",
      "Epoch 3/12\n",
      "375/375 [==============================] - 1s 3ms/step - loss: 0.0963 - accuracy: 0.9715 - val_loss: 0.1142 - val_accuracy: 0.9663\n",
      "Epoch 4/12\n",
      "375/375 [==============================] - 1s 3ms/step - loss: 0.0715 - accuracy: 0.9787 - val_loss: 0.0891 - val_accuracy: 0.9749\n",
      "Epoch 5/12\n",
      "375/375 [==============================] - 1s 3ms/step - loss: 0.0570 - accuracy: 0.9832 - val_loss: 0.0891 - val_accuracy: 0.9717\n",
      "Epoch 6/12\n",
      "375/375 [==============================] - 1s 3ms/step - loss: 0.0453 - accuracy: 0.9867 - val_loss: 0.0794 - val_accuracy: 0.9777\n",
      "Epoch 7/12\n",
      "375/375 [==============================] - 1s 3ms/step - loss: 0.0364 - accuracy: 0.9898 - val_loss: 0.0815 - val_accuracy: 0.9775\n",
      "Epoch 8/12\n",
      "375/375 [==============================] - 1s 3ms/step - loss: 0.0293 - accuracy: 0.9918 - val_loss: 0.0805 - val_accuracy: 0.9778\n",
      "Epoch 9/12\n",
      "375/375 [==============================] - 1s 3ms/step - loss: 0.0241 - accuracy: 0.9932 - val_loss: 0.0774 - val_accuracy: 0.9773\n",
      "Epoch 10/12\n",
      "375/375 [==============================] - 1s 3ms/step - loss: 0.0187 - accuracy: 0.9949 - val_loss: 0.0890 - val_accuracy: 0.9778\n",
      "Epoch 11/12\n",
      "375/375 [==============================] - 1s 3ms/step - loss: 0.0155 - accuracy: 0.9961 - val_loss: 0.0870 - val_accuracy: 0.9783\n",
      "Epoch 12/12\n",
      "375/375 [==============================] - 1s 3ms/step - loss: 0.0122 - accuracy: 0.9969 - val_loss: 0.0845 - val_accuracy: 0.9775\n"
     ]
    }
   ],
   "source": [
    "# Create a new sequential model object. \n",
    "# A sequential model is a linear stack of layers, where you can easily add, remove, and connect layers.\n",
    "model = keras.Sequential()\n",
    "\n",
    "# Add a new fully connected layer with 256 units to the model. \n",
    "# The input_shape parameter tells Keras the shape of the input data, which is a 1D array of length 784.\n",
    "# There is only one hidden layer in this model, which is created by adding the first layer to the model using model.add(). \n",
    "# This layer has 256 units and uses default linear activation function. The input shape of this layer is automatically \n",
    "# inferred from the input shape of the model, which is specified in the first layer. Therefore, the first layer specifies \n",
    "# both the input layer and the hidden layer of the model.\n",
    "model.add(keras.layers.Dense(256, input_shape=(784,)))\n",
    "\n",
    "# Add another dense layer with 10 units to the model. \n",
    "# The activation parameter specifies the activation function to use for the layer's output. \n",
    "# In this case, the softmax function is used, which produces a probability distribution over the 10 output classes.\n",
    "model.add(keras.layers.Dense(10, activation='softmax'))\n",
    "\n",
    "\n",
    "model = keras.Sequential()\n",
    "model.add(keras.layers.Dense(256, input_shape=(784,), activation='relu'))\n",
    "model.add(keras.layers.Dense(10, activation='softmax'))\n",
    "model.compile(loss='categorical_crossentropy',optimizer=keras.optimizers.RMSprop(), metrics='accuracy')\n",
    "history = model.fit(x_train, y_train, batch_size=128, epochs=12, verbose=1, validation_split=0.2)"
   ]
  },
  {
   "cell_type": "markdown",
   "id": "e196f06e-2ac1-45ca-a02e-0f290f90a3b2",
   "metadata": {},
   "source": [
    "Plot the training history as before. Note the different values on the y-axis, compared to the previous plot."
   ]
  },
  {
   "cell_type": "code",
   "execution_count": 8,
   "id": "02be99ed-0689-4cd6-9723-445078edad35",
   "metadata": {
    "collapsed": true,
    "jupyter": {
     "outputs_hidden": true
    },
    "tags": []
   },
   "outputs": [
    {
     "data": {
      "image/png": "[encoded data removed]",
      "text/plain": [
       "<Figure size 640x480 with 1 Axes>"
      ]
     },
     "metadata": {},
     "output_type": "display_data"
    }
   ],
   "source": [
    "# Plot the training loss\n",
    "plt.plot(history.epoch, history.history['loss'], label='Training loss')\n",
    "plt.plot(history.epoch, history.history['val_loss'], label='Validation loss')\n",
    "plt.title('Training and validation loss')\n",
    "plt.xlabel('Epochs')\n",
    "plt.ylabel('Loss')\n",
    "plt.legend()\n",
    "plt.show()"
   ]
  },
  {
   "cell_type": "code",
   "execution_count": 9,
   "id": "aa733a0d-d4d5-4d34-9506-2034c4f8106a",
   "metadata": {
    "collapsed": true,
    "jupyter": {
     "outputs_hidden": true
    },
    "tags": []
   },
   "outputs": [
    {
     "data": {
      "image/png": "[encoded data removed]",
      "text/plain": [
       "<Figure size 640x480 with 1 Axes>"
      ]
     },
     "metadata": {},
     "output_type": "display_data"
    }
   ],
   "source": [
    "# Plot the training accuracy\n",
    "plt.plot(history.epoch, history.history['accuracy'], label='Training accuracy')\n",
    "plt.plot(history.epoch, history.history['val_accuracy'], label='Validation accuracy')\n",
    "plt.title('Training and validation accuracy')\n",
    "plt.xlabel('Epochs')\n",
    "plt.ylabel('Accuracy')\n",
    "plt.legend()\n",
    "plt.show()"
   ]
  },
  {
   "cell_type": "markdown",
   "id": "904b3684-6267-4d4e-93c5-4ecc64c68089",
   "metadata": {},
   "source": [
    "#### Question 5: Describe how this training history differs from the previous model, for the training and validation sets. Explain what this tells us about the generalisation of the model (8 points)."
   ]
  },
  {
   "cell_type": "markdown",
   "id": "947b03a6-78bf-4b53-b18d-fe7a0760ac91",
   "metadata": {},
   "source": [
    "The first graph plots the training and validation loss values over the epochs. The loss is a measure of how well the model is able to fit the training data and minimize the difference between the predicted output and the actual target values. The training loss is calculated on the training data, while the validation loss is calculated on the validation data.\n",
    "\n",
    "In the first graph, training and validation loss decrease over time, with the validation loss remaining relatively constant after the second epoch. The fact that the validation loss remains relatively constant after the second epoch means that the model is not overfitting the training data, and it is generalizing well to new, unseen data. The meeting of the training and validation loss lines at the second epoch indicates that the model has achieved a balance between underfitting and overfitting the training data, and it is neither too simple nor too complex. The decrease in the training loss line beyond the second epoch indicates that the model continues to learn from the training data and improve its performance.\n",
    "\n",
    "The second graph plots the training and validation accuracy values over the epochs. The accuracy is a measure of how many predictions the model makes correctly. The training accuracy is calculated on the training data, while the validation accuracy is calculated on the validation data.\n",
    "\n",
    "In this case, both the training accuracy and validation accuracy increase over time, which means that the model is improving its ability to correctly classify the samples. The validation accuracy line remains relatively constant after the second epoch, which suggests that the model is not overfitting to the training data, as the accuracy on the validation set is not significantly improving. The training and validation accuracy lines meet at the second epoch, which means that the performance of the model on the training data and validation data is similar at this point."
   ]
  },
  {
   "cell_type": "markdown",
   "id": "fb1f6af5-5885-4ab9-86fe-2d6dd86bf167",
   "metadata": {},
   "source": [
    "### Deep convolutional networks"
   ]
  },
  {
   "cell_type": "markdown",
   "id": "3be73647-42f6-45ff-ac3e-e696fe6fb255",
   "metadata": {},
   "source": [
    "Our first two models used fully-connected networks for number recognition. They ran quickly, largely because of their very simple structure. They learned the relationships between our pixels and the numbers they represent fairly well. However, they had a limited ability to generalise to new data that they were not trained on. \n",
    "\n",
    "In deep convolutional networks, each convolutional filter samples from the limited space in the previous layer’s feature map. To use the whole image to determine outputs, they need more layers to allow more spatial integration. They also need multiple feature maps at each layer to capture the multiple meaningful spatial relationships that are possible. All of this greatly increases computational load."
   ]
  },
  {
   "cell_type": "markdown",
   "id": "3bc30827-a649-4184-be25-16ef77a37bd3",
   "metadata": {},
   "source": [
    "Reshape x_train to size 60000, 28, 28, 1. Reshape x_test to size 10000, 28, 28, 1. Rescale both results to values between zero and one as before. y_train and y_test are categorical units, as before."
   ]
  },
  {
   "cell_type": "code",
   "execution_count": 9,
   "id": "24f555bb-1c86-414b-aae2-82525b91b862",
   "metadata": {},
   "outputs": [],
   "source": [
    "# Reshape x_train to size 60000, 28, 28, 1\n",
    "x_train = x_train.reshape(x_train.shape[0], 28, 28, 1)\n",
    "\n",
    "# Reshape x_test to size 10000, 28, 28, 1\n",
    "x_test = x_test.reshape(x_test.shape[0], 28, 28, 1)\n",
    "\n",
    "# Rescale both x_train and x_test to values between 0 and 1\n",
    "x_train = x_train / 255\n",
    "x_test = x_test / 255\n",
    "\n",
    "# Rescale labels y_train and y_test to values between 0 and 1\n",
    "y_train = keras.utils.to_categorical(y_train, 10)\n",
    "y_test = keras.utils.to_categorical(y_test, 10)"
   ]
  },
  {
   "cell_type": "markdown",
   "id": "83aab45d-61c1-419f-8b99-e1b6960123d1",
   "metadata": {},
   "source": [
    "Now we will define a convolutional learning model with 2 convolutional layers that result from 32 convolutional filters into the first layer and 64 filters into the second. We will use 3x3 pixel filters to sample from the image to the first layer, and the same to sample from the first layer to the second. We will use rectified activation functions for both convolutional layers. We will use pooling to downsample the second convolutional layer to half its size in both spatial dimensions (so one quarter of the pixels). We will flatten the resulting feature map to one dimension, then use one fully\u0002connected layer to link our network to the labels."
   ]
  },
  {
   "cell_type": "code",
   "execution_count": 10,
   "id": "d023d2d0-39b8-44da-8d5c-4aa6bf16dd25",
   "metadata": {
    "tags": []
   },
   "outputs": [
    {
     "name": "stdout",
     "output_type": "stream",
     "text": [
      "Epoch 1/6\n"
     ]
    },
    {
     "ename": "ValueError",
     "evalue": "in user code:\n\n    File \"/Users/hakim/opt/anaconda3/envs/INFOMHNA/lib/python3.10/site-packages/keras/engine/training.py\", line 1160, in train_function  *\n        return step_function(self, iterator)\n    File \"/Users/hakim/opt/anaconda3/envs/INFOMHNA/lib/python3.10/site-packages/keras/engine/training.py\", line 1146, in step_function  **\n        outputs = model.distribute_strategy.run(run_step, args=(data,))\n    File \"/Users/hakim/opt/anaconda3/envs/INFOMHNA/lib/python3.10/site-packages/keras/engine/training.py\", line 1135, in run_step  **\n        outputs = model.train_step(data)\n    File \"/Users/hakim/opt/anaconda3/envs/INFOMHNA/lib/python3.10/site-packages/keras/engine/training.py\", line 994, in train_step\n        loss = self.compute_loss(x, y, y_pred, sample_weight)\n    File \"/Users/hakim/opt/anaconda3/envs/INFOMHNA/lib/python3.10/site-packages/keras/engine/training.py\", line 1052, in compute_loss\n        return self.compiled_loss(\n    File \"/Users/hakim/opt/anaconda3/envs/INFOMHNA/lib/python3.10/site-packages/keras/engine/compile_utils.py\", line 265, in __call__\n        loss_value = loss_obj(y_t, y_p, sample_weight=sw)\n    File \"/Users/hakim/opt/anaconda3/envs/INFOMHNA/lib/python3.10/site-packages/keras/losses.py\", line 152, in __call__\n        losses = call_fn(y_true, y_pred)\n    File \"/Users/hakim/opt/anaconda3/envs/INFOMHNA/lib/python3.10/site-packages/keras/losses.py\", line 272, in call  **\n        return ag_fn(y_true, y_pred, **self._fn_kwargs)\n    File \"/Users/hakim/opt/anaconda3/envs/INFOMHNA/lib/python3.10/site-packages/keras/losses.py\", line 1990, in categorical_crossentropy\n        return backend.categorical_crossentropy(\n    File \"/Users/hakim/opt/anaconda3/envs/INFOMHNA/lib/python3.10/site-packages/keras/backend.py\", line 5529, in categorical_crossentropy\n        target.shape.assert_is_compatible_with(output.shape)\n\n    ValueError: Shapes (128, 10, 10, 10) and (128, 10) are incompatible\n",
     "output_type": "error",
     "traceback": [
      "\u001b[0;31m---------------------------------------------------------------------------\u001b[0m",
      "\u001b[0;31mValueError\u001b[0m                                Traceback (most recent call last)",
      "Cell \u001b[0;32mIn[10], line 27\u001b[0m\n\u001b[1;32m     25\u001b[0m model\u001b[38;5;241m.\u001b[39mcompile(loss\u001b[38;5;241m=\u001b[39m\u001b[38;5;124m'\u001b[39m\u001b[38;5;124mcategorical_crossentropy\u001b[39m\u001b[38;5;124m'\u001b[39m, optimizer\u001b[38;5;241m=\u001b[39mkeras\u001b[38;5;241m.\u001b[39moptimizers\u001b[38;5;241m.\u001b[39mAdadelta(learning_rate\u001b[38;5;241m=\u001b[39m\u001b[38;5;241m1\u001b[39m), metrics\u001b[38;5;241m=\u001b[39m\u001b[38;5;124m'\u001b[39m\u001b[38;5;124maccuracy\u001b[39m\u001b[38;5;124m'\u001b[39m)\n\u001b[1;32m     26\u001b[0m \u001b[38;5;66;03m# Fit the model using 6 epochs. Expect that model fitting will take far longer than the previous ones.\u001b[39;00m\n\u001b[0;32m---> 27\u001b[0m history \u001b[38;5;241m=\u001b[39m \u001b[43mmodel\u001b[49m\u001b[38;5;241;43m.\u001b[39;49m\u001b[43mfit\u001b[49m\u001b[43m(\u001b[49m\u001b[43mx_train\u001b[49m\u001b[43m,\u001b[49m\u001b[43m \u001b[49m\u001b[43my_train\u001b[49m\u001b[43m,\u001b[49m\u001b[43m \u001b[49m\u001b[43mbatch_size\u001b[49m\u001b[38;5;241;43m=\u001b[39;49m\u001b[38;5;241;43m128\u001b[39;49m\u001b[43m,\u001b[49m\u001b[43m \u001b[49m\u001b[43mepochs\u001b[49m\u001b[38;5;241;43m=\u001b[39;49m\u001b[38;5;241;43m6\u001b[39;49m\u001b[43m,\u001b[49m\u001b[43m \u001b[49m\u001b[43mverbose\u001b[49m\u001b[38;5;241;43m=\u001b[39;49m\u001b[38;5;241;43m1\u001b[39;49m\u001b[43m,\u001b[49m\u001b[43m \u001b[49m\u001b[43mvalidation_split\u001b[49m\u001b[38;5;241;43m=\u001b[39;49m\u001b[38;5;241;43m0.2\u001b[39;49m\u001b[43m)\u001b[49m\n",
      "File \u001b[0;32m~/opt/anaconda3/envs/INFOMHNA/lib/python3.10/site-packages/keras/utils/traceback_utils.py:70\u001b[0m, in \u001b[0;36mfilter_traceback.<locals>.error_handler\u001b[0;34m(*args, **kwargs)\u001b[0m\n\u001b[1;32m     67\u001b[0m     filtered_tb \u001b[38;5;241m=\u001b[39m _process_traceback_frames(e\u001b[38;5;241m.\u001b[39m__traceback__)\n\u001b[1;32m     68\u001b[0m     \u001b[38;5;66;03m# To get the full stack trace, call:\u001b[39;00m\n\u001b[1;32m     69\u001b[0m     \u001b[38;5;66;03m# `tf.debugging.disable_traceback_filtering()`\u001b[39;00m\n\u001b[0;32m---> 70\u001b[0m     \u001b[38;5;28;01mraise\u001b[39;00m e\u001b[38;5;241m.\u001b[39mwith_traceback(filtered_tb) \u001b[38;5;28;01mfrom\u001b[39;00m \u001b[38;5;28mNone\u001b[39m\n\u001b[1;32m     71\u001b[0m \u001b[38;5;28;01mfinally\u001b[39;00m:\n\u001b[1;32m     72\u001b[0m     \u001b[38;5;28;01mdel\u001b[39;00m filtered_tb\n",
      "File \u001b[0;32m/var/folders/lf/wrpzkclx28328bfdgmpsjhpw0000gn/T/__autograph_generated_filegde7hcbd.py:15\u001b[0m, in \u001b[0;36mouter_factory.<locals>.inner_factory.<locals>.tf__train_function\u001b[0;34m(iterator)\u001b[0m\n\u001b[1;32m     13\u001b[0m \u001b[38;5;28;01mtry\u001b[39;00m:\n\u001b[1;32m     14\u001b[0m     do_return \u001b[38;5;241m=\u001b[39m \u001b[38;5;28;01mTrue\u001b[39;00m\n\u001b[0;32m---> 15\u001b[0m     retval_ \u001b[38;5;241m=\u001b[39m ag__\u001b[38;5;241m.\u001b[39mconverted_call(ag__\u001b[38;5;241m.\u001b[39mld(step_function), (ag__\u001b[38;5;241m.\u001b[39mld(\u001b[38;5;28mself\u001b[39m), ag__\u001b[38;5;241m.\u001b[39mld(iterator)), \u001b[38;5;28;01mNone\u001b[39;00m, fscope)\n\u001b[1;32m     16\u001b[0m \u001b[38;5;28;01mexcept\u001b[39;00m:\n\u001b[1;32m     17\u001b[0m     do_return \u001b[38;5;241m=\u001b[39m \u001b[38;5;28;01mFalse\u001b[39;00m\n",
      "\u001b[0;31mValueError\u001b[0m: in user code:\n\n    File \"/Users/hakim/opt/anaconda3/envs/INFOMHNA/lib/python3.10/site-packages/keras/engine/training.py\", line 1160, in train_function  *\n        return step_function(self, iterator)\n    File \"/Users/hakim/opt/anaconda3/envs/INFOMHNA/lib/python3.10/site-packages/keras/engine/training.py\", line 1146, in step_function  **\n        outputs = model.distribute_strategy.run(run_step, args=(data,))\n    File \"/Users/hakim/opt/anaconda3/envs/INFOMHNA/lib/python3.10/site-packages/keras/engine/training.py\", line 1135, in run_step  **\n        outputs = model.train_step(data)\n    File \"/Users/hakim/opt/anaconda3/envs/INFOMHNA/lib/python3.10/site-packages/keras/engine/training.py\", line 994, in train_step\n        loss = self.compute_loss(x, y, y_pred, sample_weight)\n    File \"/Users/hakim/opt/anaconda3/envs/INFOMHNA/lib/python3.10/site-packages/keras/engine/training.py\", line 1052, in compute_loss\n        return self.compiled_loss(\n    File \"/Users/hakim/opt/anaconda3/envs/INFOMHNA/lib/python3.10/site-packages/keras/engine/compile_utils.py\", line 265, in __call__\n        loss_value = loss_obj(y_t, y_p, sample_weight=sw)\n    File \"/Users/hakim/opt/anaconda3/envs/INFOMHNA/lib/python3.10/site-packages/keras/losses.py\", line 152, in __call__\n        losses = call_fn(y_true, y_pred)\n    File \"/Users/hakim/opt/anaconda3/envs/INFOMHNA/lib/python3.10/site-packages/keras/losses.py\", line 272, in call  **\n        return ag_fn(y_true, y_pred, **self._fn_kwargs)\n    File \"/Users/hakim/opt/anaconda3/envs/INFOMHNA/lib/python3.10/site-packages/keras/losses.py\", line 1990, in categorical_crossentropy\n        return backend.categorical_crossentropy(\n    File \"/Users/hakim/opt/anaconda3/envs/INFOMHNA/lib/python3.10/site-packages/keras/backend.py\", line 5529, in categorical_crossentropy\n        target.shape.assert_is_compatible_with(output.shape)\n\n    ValueError: Shapes (128, 10, 10, 10) and (128, 10) are incompatible\n"
     ]
    }
   ],
   "source": [
    "# Creates an empty sequential model.\n",
    "model = keras.Sequential()\n",
    "\n",
    "# Adds a 2D convolutional layer with 32 filters, each with a 3x3 kernel size and ReLU activation function. \n",
    "# A 2D convolutional layer means that each filter is a small 2D matrix.\n",
    "# The input shape is (28, 28, 1), which corresponds to the dimensions of the MNIST images.\n",
    "model.add(keras.layers.Conv2D(filters=32, kernel_size=(3, 3), activation=\"relu\", input_shape=(28, 28, 1)))\n",
    "\n",
    "# Adds another 2D convolutional layer with 64 filters and 3x3 kernel size with ReLU activation function.\n",
    "model.add(keras.layers.Conv2D(filters=64, kernel_size=(3, 3), activation=\"relu\"))\n",
    "\n",
    "# Adds a max pooling layer with a pool size of (2, 2). This reduces the spatial dimensions of the previous layer's output by a factor of 2.\n",
    "model.add(keras.layers.MaxPool2D(pool_size=(2, 2)))\n",
    "\n",
    "# Flattens the output from the previous layer into a 1D vector.\n",
    "model.add(keras.layers.Flatten())\n",
    "\n",
    "# Adds a fully connected (dense) layer with 128 neurons and ReLU activation function.\n",
    "model.add(keras.layers.Dense(128, activation=\"relu\"))\n",
    "\n",
    "# Adds another fully connected layer with 10 neurons, corresponding to the number of classes in the MNIST dataset, \n",
    "# and a softmax activation function. This layer outputs the probability distribution over the classes.\n",
    "model.add(keras.layers.Dense(10, activation=\"softmax\"))\n",
    "\n",
    "model.compile(loss='categorical_crossentropy', optimizer=keras.optimizers.Adadelta(learning_rate=1), metrics='accuracy')\n",
    "# Fit the model using 6 epochs. Expect that model fitting will take far longer than the previous ones.\n",
    "history = model.fit(x_train, y_train, batch_size=128, epochs=6, verbose=1, validation_split=0.2)"
   ]
  },
  {
   "cell_type": "markdown",
   "id": "a95b60b6-8a1b-4c56-9653-7d674da7c783",
   "metadata": {},
   "source": [
    "Plot the training history as before."
   ]
  },
  {
   "cell_type": "code",
   "execution_count": 7,
   "id": "d4cb4c0b-72d7-4bfa-9b79-8331264be884",
   "metadata": {
    "collapsed": true,
    "jupyter": {
     "outputs_hidden": true
    },
    "tags": []
   },
   "outputs": [
    {
     "data": {
      "image/png": "[encoded data removed]",
      "text/plain": [
       "<Figure size 640x480 with 1 Axes>"
      ]
     },
     "metadata": {},
     "output_type": "display_data"
    }
   ],
   "source": [
    "# Plot the training loss\n",
    "plt.plot(history.epoch, history.history['loss'], label='Training loss')\n",
    "plt.plot(history.epoch, history.history['val_loss'], label='Validation loss')\n",
    "plt.title('Training and validation loss')\n",
    "plt.xlabel('Epochs')\n",
    "plt.ylabel('Loss')\n",
    "plt.legend()\n",
    "plt.show()"
   ]
  },
  {
   "cell_type": "code",
   "execution_count": 8,
   "id": "1541ea57-519d-4313-952c-72406267e647",
   "metadata": {
    "collapsed": true,
    "jupyter": {
     "outputs_hidden": true
    },
    "tags": []
   },
   "outputs": [
    {
     "data": {
      "image/png": "[encoded data removed]",
      "text/plain": [
       "<Figure size 640x480 with 1 Axes>"
      ]
     },
     "metadata": {},
     "output_type": "display_data"
    }
   ],
   "source": [
    "# Plot the training accuracy\n",
    "plt.plot(history.epoch, history.history['accuracy'], label='Training accuracy')\n",
    "plt.plot(history.epoch, history.history['val_accuracy'], label='Validation accuracy')\n",
    "plt.title('Training and validation accuracy')\n",
    "plt.xlabel('Epochs')\n",
    "plt.ylabel('Accuracy')\n",
    "plt.legend()\n",
    "plt.show()"
   ]
  },
  {
   "cell_type": "markdown",
   "id": "d7c76423-05a7-4ef7-9334-b5d6d0e30f9c",
   "metadata": {},
   "source": [
    "Quantify the model’s accuracy and loss as before."
   ]
  },
  {
   "cell_type": "code",
   "execution_count": 20,
   "id": "b71c6172-46e2-49c7-9815-2988256b1589",
   "metadata": {},
   "outputs": [
    {
     "name": "stdout",
     "output_type": "stream",
     "text": [
      "313/313 [==============================] - 0s 692us/step - loss: 0.2818 - accuracy: 0.9237\n",
      "Test Loss: 0.2817889153957367\n",
      "Test Accuracy: 0.9236999750137329\n"
     ]
    }
   ],
   "source": [
    "loss, accuracy = model.evaluate(x_test, y_test, verbose=1)\n",
    "print(\"Test Loss:\", loss)\n",
    "print(\"Test Accuracy:\", accuracy)"
   ]
  },
  {
   "cell_type": "markdown",
   "id": "6d841273-f9f3-4122-8512-56da5d2257fa",
   "metadata": {},
   "source": [
    "#### Question 6: Explain whether you think this is sufficient for the uses of automatic hand-written digit classification you listed in Question 1, and why (5 points)."
   ]
  },
  {
   "cell_type": "markdown",
   "id": "c81624b6-8597-4506-8dee-f679e84abfd8",
   "metadata": {},
   "source": []
  },
  {
   "cell_type": "markdown",
   "id": "c73e74ee-ba2e-42ce-8c02-cb689ea70791",
   "metadata": {},
   "source": [
    "#### Question 7: ‘Dropout’ is a method used in deep network training to prevent overfitting of training data and focus on aspects of the learning model that will generalise to new data. Research and describe the principles of overfitting and how dropout can reduce this (7 points)."
   ]
  },
  {
   "cell_type": "markdown",
   "id": "e190571b-c6dd-4777-98fe-0743437b8c15",
   "metadata": {},
   "source": [
    "Dropout is a regularization technique used to address overfitting in deep networks. The basic idea behind dropout is to randomly drop out units, or neurons, during the training process. This means that during each forward pass, some neurons are temporarily shut off and their outputs are ignored. This forces the network to rely on the remaining neurons and encourages diversity in the activations. At each forward pass, different neurons are dropped out, which makes the network more robust and prevents it from relying too heavily on any one neuron.\n",
    "\n",
    "Dropout reduces overfitting by reducing the co-adaptation of neurons and preventing complex models from overfitting to the training data. By randomly dropping out neurons, the network is encouraged to learn multiple independent representations of the data and is less likely to become overly specialized in a specific subset of the data. This makes the model more general and better suited for making predictions on new data."
   ]
  },
  {
   "cell_type": "code",
   "execution_count": 25,
   "id": "6e84b0f1-2ace-4913-bf66-734e2cadd859",
   "metadata": {
    "collapsed": true,
    "jupyter": {
     "outputs_hidden": true
    },
    "tags": []
   },
   "outputs": [
    {
     "name": "stdout",
     "output_type": "stream",
     "text": [
      "Epoch 1/6\n",
      "375/375 [==============================] - 35s 92ms/step - loss: 0.2541 - accuracy: 0.9216 - val_loss: 0.0706 - val_accuracy: 0.9777\n",
      "Epoch 2/6\n",
      "375/375 [==============================] - 36s 96ms/step - loss: 0.0750 - accuracy: 0.9771 - val_loss: 0.0576 - val_accuracy: 0.9833\n",
      "Epoch 3/6\n",
      "375/375 [==============================] - 42s 111ms/step - loss: 0.0557 - accuracy: 0.9825 - val_loss: 0.0480 - val_accuracy: 0.9864\n",
      "Epoch 4/6\n",
      "375/375 [==============================] - 40s 107ms/step - loss: 0.0459 - accuracy: 0.9852 - val_loss: 0.0416 - val_accuracy: 0.9882\n",
      "Epoch 5/6\n",
      "375/375 [==============================] - 40s 107ms/step - loss: 0.0374 - accuracy: 0.9881 - val_loss: 0.0393 - val_accuracy: 0.9885\n",
      "Epoch 6/6\n",
      "375/375 [==============================] - 40s 107ms/step - loss: 0.0328 - accuracy: 0.9896 - val_loss: 0.0355 - val_accuracy: 0.9897\n"
     ]
    }
   ],
   "source": [
    "model = keras.Sequential()\n",
    "model.add(keras.layers.Conv2D(filters=32, kernel_size=(3, 3), activation=\"relu\", input_shape=(28, 28, 1)))\n",
    "model.add(keras.layers.Conv2D(filters=64, kernel_size=(3, 3), activation=\"relu\"))\n",
    "model.add(keras.layers.MaxPool2D(pool_size=(2, 2)))\n",
    "model.add(keras.layers.Dropout(rate=0.25))\n",
    "model.add(keras.layers.Flatten())\n",
    "model.add(keras.layers.Dropout(rate=0.5))\n",
    "model.add(keras.layers.Dense(128, activation=\"relu\"))\n",
    "model.add(keras.layers.Dense(10, activation=\"softmax\"))\n",
    "model.compile(loss='categorical_crossentropy', optimizer=keras.optimizers.Adadelta(learning_rate=1), metrics='accuracy')\n",
    "# Fit the model using 6 epochs. Expect that model fitting will take far longer than the previous ones.\n",
    "history = model.fit(x_train, y_train, batch_size=128, epochs=6, verbose=1, validation_split=0.2)"
   ]
  },
  {
   "cell_type": "markdown",
   "id": "a4f84805-a0ee-447f-b89a-b1e92eb8f508",
   "metadata": {},
   "source": [
    "#### Question 8: In comparison to the previous (convolutional) model: a) How does the time taken for each training epoch differ? b) How does the training history differ for both the training and validation sets? c) How well does the resulting model generalise? (6 points)"
   ]
  },
  {
   "cell_type": "code",
   "execution_count": null,
   "id": "7b19b5f2-37ed-44b0-ad57-ca96aa9f92e2",
   "metadata": {},
   "outputs": [],
   "source": []
  },
  {
   "cell_type": "markdown",
   "id": "9c4ec902-e71c-47e4-ba12-35616c6a2cd3",
   "metadata": {},
   "source": [
    "# Exercise two: Identifying objects from images"
   ]
  },
  {
   "cell_type": "markdown",
   "id": "d58ccd19-dfc9-40e5-a473-7e8c837c674c",
   "metadata": {},
   "source": [
    "First, download and load the data set using:"
   ]
  },
  {
   "cell_type": "code",
   "execution_count": null,
   "id": "cc90e59e-9356-408d-8137-44aa057d1399",
   "metadata": {},
   "outputs": [],
   "source": [
    "(x_train, y_train), (x_test, y_test) = keras.datasets.cifar10.load_data()"
   ]
  },
  {
   "cell_type": "markdown",
   "id": "5279193d-8d76-4275-bf56-9a64d312d215",
   "metadata": {},
   "source": [
    "Prepare the test and training images by dividing their values by 255, storing the result in variables x_train and x_test. The shapes of the image matrices are already correct for input into Keras. Convert the training and test labels to categorical variables, as before with the handwritten digits, storing the result in variables y_train and y_test."
   ]
  },
  {
   "cell_type": "code",
   "execution_count": null,
   "id": "39d43f44-43e3-44ae-aabd-66d24fb6c371",
   "metadata": {},
   "outputs": [],
   "source": [
    "# Normalize the pixel values from [0, 255] to [0, 1]\n",
    "x_train = x_train / 255\n",
    "x_test = x_test / 255\n",
    "\n",
    "# Convert the labels to one-hot encoded form\n",
    "y_train = keras.utils.to_categorical(y_train, 10)\n",
    "y_test = keras.utils.to_categorical(y_test, 10)"
   ]
  },
  {
   "cell_type": "markdown",
   "id": "ae68514d-eead-474f-96f5-2af0ee866014",
   "metadata": {},
   "source": [
    "Define the model using the convolutional network with dropout (from Question 8) as a template."
   ]
  },
  {
   "cell_type": "code",
   "execution_count": null,
   "id": "f0f20c78-3457-462b-b182-97b3760f8985",
   "metadata": {},
   "outputs": [],
   "source": [
    "model = keras.Sequential()\n",
    "model.add(keras.layers.Conv2D(filters=32, kernel_size=(3, 3), activation=\"relu\", input_shape = (32, 32, 3), padding = “same”))\n",
    "model.add(keras.layers.Conv2D(filters=32, kernel_size=(3, 3), activation=\"relu\"))\n",
    "model.add(keras.layers.MaxPool2D(pool_size=(2, 2)))\n",
    "model.add(keras.layers.Dropout(rate=0.25))\n",
    "\n",
    "# Additional conv, conv, pool, and dropout layers\n",
    "model.add(keras.layers.Conv2D(filters=32, kernel_size=(3, 3), activation=\"relu\", padding = “same”))\n",
    "model.add(keras.layers.Conv2D(filters=32, kernel_size=(3, 3), activation=\"relu\"))\n",
    "model.add(keras.layers.MaxPool2D(pool_size=(2, 2)))\n",
    "model.add(keras.layers.Dropout(rate=0.25))\n",
    "\n",
    "model.add(keras.layers.Flatten())\n",
    "model.add(keras.layers.Dropout(rate=0.5))\n",
    "model.add(keras.layers.Dense(512, activation=\"relu\"))\n",
    "model.add(keras.layers.Dense(10, activation=\"softmax\"))\n",
    "\n",
    "model.compile(loss='categorical_crossentropy', optimizer = keras.optimizers.RMSprop(learning_rate=0.0001, decay=1e-6), metrics='accuracy')\n",
    "\n",
    "# Fit the model using 6 epochs. Expect that model fitting will take far longer than the previous ones.\n",
    "history = model.fit(x_train, y_train, batch_size=32, epochs=20, verbose=1, validation_data=(x_test, y_test), shuffle = True)"
   ]
  },
  {
   "cell_type": "markdown",
   "id": "915e47d5-060f-4a76-8a0d-5dba3ac06c07",
   "metadata": {},
   "source": [
    "#### Question 9: In comparison to the convolutional model for digit recognition (13 points total): "
   ]
  },
  {
   "cell_type": "markdown",
   "id": "f3cca61c-5969-4083-bf9a-b9a9a991f716",
   "metadata": {},
   "source": [
    "#### Question 9.1: How long does it take to run each training epoch? (1 point)"
   ]
  },
  {
   "cell_type": "markdown",
   "id": "e83f3a88-89db-467c-87f7-cbfdadeb6351",
   "metadata": {},
   "source": [
    "#### Question 9.2: Give at least factors that may contribute to this difference, explaining each (4points)"
   ]
  },
  {
   "cell_type": "markdown",
   "id": "0b5f3cb8-ad0c-4856-9a47-c1edc3bebfc1",
   "metadata": {},
   "source": [
    "#### Question 9.3: Describe how the training history differs and why.(6 points)"
   ]
  },
  {
   "cell_type": "markdown",
   "id": "b51a3cca-e370-48dc-9da7-b930cf75c96e",
   "metadata": {},
   "source": [
    "#### Question 9.4: The simpler, non-convolutional models from Exercise 1 (Questions2-5) would perform very poorly on this object recognition task, while they do fairly well on number recognition. What differences between these tasks could underlie this difference in performance? (2 points)"
   ]
  },
  {
   "cell_type": "code",
   "execution_count": 22,
   "id": "8594614c-7ed8-4243-99ad-7290c171f701",
   "metadata": {},
   "outputs": [
    {
     "data": {
      "text/plain": [
       "array([[[[0.38190993, 0.08557022, 0.47784648, 0.02097297, 0.4409379 ,\n",
       "          0.54593885, 0.06180582, 0.88835428, 0.61066217, 0.70384623],\n",
       "         [0.42409093, 0.96862716, 0.84192445, 0.3493929 , 0.12610799,\n",
       "          0.6460223 , 0.66535769, 0.90784425, 0.58869806, 0.18845247],\n",
       "         [0.50949719, 0.7911773 , 0.10453303, 0.38485405, 0.07336655,\n",
       "          0.92454643, 0.2398615 , 0.1316674 , 0.3204776 , 0.13587624],\n",
       "         [0.31966777, 0.46605818, 0.39948324, 0.35718936, 0.59869476,\n",
       "          0.66729409, 0.362822  , 0.05736768, 0.89618371, 0.80472628],\n",
       "         [0.66866009, 0.94946378, 0.54746314, 0.74072932, 0.73716397,\n",
       "          0.20883495, 0.63865688, 0.20588426, 0.99926694, 0.31763359],\n",
       "         [0.58065063, 0.78305178, 0.3721883 , 0.62327523, 0.56106159,\n",
       "          0.69415089, 0.25266043, 0.43856069, 0.10035165, 0.01331091],\n",
       "         [0.91896768, 0.25544585, 0.57329186, 0.7353803 , 0.24693821,\n",
       "          0.78846324, 0.9289096 , 0.1028398 , 0.90941538, 0.18134692],\n",
       "         [0.80178286, 0.93878598, 0.08088111, 0.45122672, 0.64307731,\n",
       "          0.11960346, 0.67997588, 0.78455403, 0.58223654, 0.54212335],\n",
       "         [0.74588732, 0.23399284, 0.50566225, 0.86901706, 0.17639828,\n",
       "          0.79862092, 0.00568639, 0.69589771, 0.05915344, 0.74654373],\n",
       "         [0.20328954, 0.15565948, 0.4684334 , 0.19299729, 0.97358602,\n",
       "          0.48894604, 0.0716257 , 0.87651584, 0.30258887, 0.95702031]]]])"
      ]
     },
     "execution_count": 22,
     "metadata": {},
     "output_type": "execute_result"
    }
   ],
   "source": [
    "import numpy as np\n",
    "import matplotlib.pyplot as plt\n",
    "img=np.random.rand(1,1,10,10)\n",
    "ker=np.random.rand(1,1,3,3)\n",
    "img\n",
    "\n",
    "what is the difference between these images:\n",
    "first_image=np.random.rand(1,1,10,10)\n",
    "second_image=np.random.rand(1,10,10)"
   ]
  },
  {
   "cell_type": "code",
   "execution_count": 23,
   "id": "cdd6aaee-208d-48a0-bdd5-a8a4fc53ced7",
   "metadata": {},
   "outputs": [
    {
     "data": {
      "text/plain": [
       "array([0, 0, 0, 0, 0, 1, 1, 1, 1, 1, 2, 2, 2, 2, 2, 3, 3, 3, 3, 3, 4, 4,\n",
       "       4, 4, 4])"
      ]
     },
     "execution_count": 23,
     "metadata": {},
     "output_type": "execute_result"
    }
   ],
   "source": [
    "i0=np.repeat(np.arange(5), 5)\n",
    "i0"
   ]
  },
  {
   "cell_type": "markdown",
   "id": "71807701-9710-4b6c-a2db-907a3cbea8a6",
   "metadata": {},
   "source": [
    "# Exercise three: Low-level functions"
   ]
  },
  {
   "cell_type": "markdown",
   "id": "9fff68a0-b79f-4f00-8a8f-16951a977212",
   "metadata": {},
   "source": [
    "#### Question 10: Write a simple function that achieves the convolution operation efficiently for two-dimensional and three-dimensional inputs. This should allow you to input a set of convolutional filters (‘kernels’ in Keras’s terminology) and an input layer (or image) as inputs. The input layer should have a third dimension, representing a stack of feature maps, and each filter should have a third dimension of corresponding size. The function should output a number of two-dimensional feature maps corresponding to the number of input filters, though these can be stacked into a third dimensional like the input layer.\n",
    "\n",
    "#### In your answer, please give the code you have written (yourselves). Also include an example input image (for example from the mnist set) and the same image convolved with two 3x3 filters, one detecting horizontal edges and the other detecting vertical edges (5 points)."
   ]
  },
  {
   "cell_type": "code",
   "execution_count": 49,
   "id": "b4d59283-8cee-469f-b544-8fb8af558d51",
   "metadata": {},
   "outputs": [
    {
     "ename": "SyntaxError",
     "evalue": "invalid syntax (1315930894.py, line 1)",
     "output_type": "error",
     "traceback": [
      "\u001b[0;36m  Cell \u001b[0;32mIn[49], line 1\u001b[0;36m\u001b[0m\n\u001b[0;31m    --------------\u001b[0m\n\u001b[0m                  ^\u001b[0m\n\u001b[0;31mSyntaxError\u001b[0m\u001b[0;31m:\u001b[0m invalid syntax\n"
     ]
    }
   ],
   "source": [
    "\n",
    "# |------------------------------------------------------------ DEFINE CONVOLUTION FUNCTION ------------------------------------------------------------|\n",
    "\n",
    "\n",
    "# Define a function that will perform a convolution operation on an input layer and a set of filters.\n",
    "\n",
    "def convolve(input_layer, filters):\n",
    "    \n",
    "    # Get shape and batch size of input layer.\n",
    "    input_shape = input_layer.shape\n",
    "    batch_size = input_shape[0]\n",
    "    # Get the shape of the filter set. \n",
    "    filter_shape = filters.shape\n",
    "    \n",
    "    # Check if the input layer has two or three dimensions\n",
    "    if len(input_shape) == 3:\n",
    "        input_rows, input_cols = input_shape[1], input_shape[2]\n",
    "    elif len(input_shape) == 4:\n",
    "        input_rows, input_cols, input_channels = input_shape[1:]\n",
    "    \n",
    "    \n",
    "    if len(filter_shape) == 4:\n",
    "        filter_rows, filter_cols, filter_channels, num_filters = filter_shape\n",
    "    elif len(filter_shape) == 5:\n",
    "        filter_rows, filter_cols, filter_channels, num_filters = filter_shape[1:]\n",
    "    \n",
    "    # Calculate output dimensions based on input and filter set\n",
    "    output_rows = input_rows - filter_rows + 1\n",
    "    output_cols = input_cols - filter_cols + 1\n",
    "    \n",
    "    # Initialize output layer\n",
    "    output_layer = np.zeros(input_shape[:1] + (output_rows, output_cols) + filter_shape[3:])\n",
    "    \n",
    "    # Perform convolution\n",
    "    if len(input_shape) == 3:\n",
    "        for r in range(output_rows):\n",
    "            for c in range(output_cols):\n",
    "                output_layer[:, r, c, :] = np.sum(\n",
    "                    input_layer[:, r:r+filter_rows, c:c+filter_cols] *\n",
    "                    filters, axis=(1, 2))\n",
    "    elif len(input_shape) == 4:\n",
    "        for r in range(output_rows):\n",
    "            for c in range(output_cols):\n",
    "                output_layer[:, r, c, :] = np.sum(\n",
    "                    input_layer[:, r:r+filter_rows, c:c+filter_cols, np.newaxis] *\n",
    "                    filters[np.newaxis, :, :, :, :], axis=(1, 2, 3))\n",
    "    \n",
    "    return output_layer\n",
    "\n",
    "# |------------------------------------------------------------ EXAMPLE CASE ------------------------------------------------------------|\n",
    " \n",
    "\n",
    "# Load image\n",
    "from keras.datasets import mnist\n",
    "(x_train, y_train), (x_test, y_test) = mnist.load_data()\n",
    " # Add an channel dimension adn scale pixel values to [0, 1] for better performance. \n",
    "input_layer = x_train[0:1, :, :, np.newaxis] / 255.0 \n",
    "\n",
    "# Define the horizontal filter and add two new dimensions \n",
    "horizontal_edge_filter = np.array([[-1, -2, -1], [0, 0, 0], [1, 2, 1]])[:, :, np.newaxis, np.newaxis] \n",
    "# Define the vertical filter and add two new dimensions \n",
    "vertical_edge_filter = np.array([[-1, 0, 1], [-2, 0, 2], [-1, 0, 1]])[:, :, np.newaxis, np.newaxis]\n",
    "# Concatenate the above filters into one filter set. \n",
    "filters = np.concatenate([horizontal_edge_filter, vertical_edge_filter], axis=3)\n",
    "\n",
    "# Perform convolution\n",
    "output_layer = convolve(input_layer, filters)\n",
    "\n",
    "# Visualize results\n",
    "import matplotlib.pyplot as plt\n",
    "plt.subplot(131)\n",
    "plt.imshow(input_layer[0, :, :, 0], cmap='gray')\n",
    "plt.title('Input layer')\n",
    "plt.axis('off')\n",
    "plt.subplot(132)\n",
    "plt.imshow(output_layer[0, :, :, 0], cmap='gray')\n",
    "plt.title('Horizontal edge filter')\n",
    "plt.axis('off')\n",
    "plt.subplot(133)\n",
    "plt.imshow(output_layer[0, :, :, 1], cmap='gray')\n",
    "plt.title('Vertical edge filter')\n",
    "plt.axis('off')\n",
    "plt.show()"
   ]
  },
  {
   "cell_type": "code",
   "execution_count": 2,
   "id": "1994ab1b-7672-4a95-8570-e95563ab8033",
   "metadata": {
    "collapsed": true,
    "jupyter": {
     "outputs_hidden": true
    },
    "tags": []
   },
   "outputs": [
    {
     "ename": "ValueError",
     "evalue": "not enough values to unpack (expected 3, got 2)",
     "output_type": "error",
     "traceback": [
      "\u001b[0;31m---------------------------------------------------------------------------\u001b[0m",
      "\u001b[0;31mValueError\u001b[0m                                Traceback (most recent call last)",
      "Cell \u001b[0;32mIn[2], line 57\u001b[0m\n\u001b[1;32m     54\u001b[0m filters \u001b[38;5;241m=\u001b[39m np\u001b[38;5;241m.\u001b[39mexpand_dims(filters, axis\u001b[38;5;241m=\u001b[39m\u001b[38;5;241m-\u001b[39m\u001b[38;5;241m1\u001b[39m)\n\u001b[1;32m     56\u001b[0m \u001b[38;5;66;03m# Apply convolution to first image in MNIST dataset\u001b[39;00m\n\u001b[0;32m---> 57\u001b[0m output \u001b[38;5;241m=\u001b[39m \u001b[43mconvolve\u001b[49m\u001b[43m(\u001b[49m\u001b[43mx_train\u001b[49m\u001b[43m[\u001b[49m\u001b[38;5;241;43m0\u001b[39;49m\u001b[43m]\u001b[49m\u001b[43m,\u001b[49m\u001b[43m \u001b[49m\u001b[43mfilters\u001b[49m\u001b[43m)\u001b[49m\n\u001b[1;32m     59\u001b[0m \u001b[38;5;66;03m# Plot input image and output feature maps\u001b[39;00m\n\u001b[1;32m     60\u001b[0m fig, ax \u001b[38;5;241m=\u001b[39m plt\u001b[38;5;241m.\u001b[39msubplots(nrows\u001b[38;5;241m=\u001b[39m\u001b[38;5;241m1\u001b[39m, ncols\u001b[38;5;241m=\u001b[39m\u001b[38;5;241m3\u001b[39m, figsize\u001b[38;5;241m=\u001b[39m(\u001b[38;5;241m12\u001b[39m, \u001b[38;5;241m4\u001b[39m))\n",
      "Cell \u001b[0;32mIn[2], line 15\u001b[0m, in \u001b[0;36mconvolve\u001b[0;34m(image, filters)\u001b[0m\n\u001b[1;32m      4\u001b[0m \u001b[38;5;124;03m\"\"\"\u001b[39;00m\n\u001b[1;32m      5\u001b[0m \u001b[38;5;124;03mPerforms a convolution operation on an input layer using a set of filters.\u001b[39;00m\n\u001b[1;32m      6\u001b[0m \u001b[38;5;124;03m\u001b[39;00m\n\u001b[0;32m   (...)\u001b[0m\n\u001b[1;32m     12\u001b[0m \u001b[38;5;124;03moutput -- 3D numpy array with shape (output_height, output_width, num_filters)\u001b[39;00m\n\u001b[1;32m     13\u001b[0m \u001b[38;5;124;03m\"\"\"\u001b[39;00m\n\u001b[1;32m     14\u001b[0m \u001b[38;5;66;03m# Get input dimensions\u001b[39;00m\n\u001b[0;32m---> 15\u001b[0m height, width, channels \u001b[38;5;241m=\u001b[39m image\u001b[38;5;241m.\u001b[39mshape\n\u001b[1;32m     17\u001b[0m \u001b[38;5;66;03m# Get filter dimensions\u001b[39;00m\n\u001b[1;32m     18\u001b[0m filter_height, filter_width, _, num_filters \u001b[38;5;241m=\u001b[39m filters\u001b[38;5;241m.\u001b[39mshape\n",
      "\u001b[0;31mValueError\u001b[0m: not enough values to unpack (expected 3, got 2)"
     ]
    }
   ],
   "source": [
    "import numpy as np\n",
    "\n",
    "def convolve(image, filters):\n",
    "    \"\"\"\n",
    "    Performs a convolution operation on an input layer using a set of filters.\n",
    "    \n",
    "    Arguments:\n",
    "    image -- 3D numpy array with shape (height, width, channels)\n",
    "    filters -- 4D numpy array with shape (filter_height, filter_width, channels, num_filters)\n",
    "    \n",
    "    Returns:\n",
    "    output -- 3D numpy array with shape (output_height, output_width, num_filters)\n",
    "    \"\"\"\n",
    "    # Get input dimensions\n",
    "    height, width, channels = image.shape\n",
    "    \n",
    "    # Get filter dimensions\n",
    "    filter_height, filter_width, _, num_filters = filters.shape\n",
    "    \n",
    "    # Compute output dimensions\n",
    "    output_height = height - filter_height + 1\n",
    "    output_width = width - filter_width + 1\n",
    "    \n",
    "    # Reshape input image to a 2D matrix\n",
    "    image_matrix = np.zeros((height * width, channels))\n",
    "    for c in range(channels):\n",
    "        image_matrix[:, c] = image[:, :, c].flatten()\n",
    "    \n",
    "    # Reshape filters to a 2D matrix\n",
    "    filter_matrix = filters.reshape(filter_height * filter_width * channels, num_filters)\n",
    "    \n",
    "    # Compute output as a matrix multiplication\n",
    "    output_matrix = np.dot(image_matrix, filter_matrix)\n",
    "    \n",
    "    # Reshape output to a 3D tensor\n",
    "    output = output_matrix.reshape(output_height, output_width, num_filters)\n",
    "    \n",
    "    return output\n",
    "\n",
    "import tensorflow as tf\n",
    "import matplotlib.pyplot as plt\n",
    "\n",
    "# Load MNIST dataset\n",
    "(x_train, y_train), _ = tf.keras.datasets.mnist.load_data()\n",
    "\n",
    "# Normalize pixel values\n",
    "x_train = x_train / 255.\n",
    "\n",
    "# Define horizontal and vertical filters\n",
    "horizontal_filter = np.array([[-1, -2, -1], [0, 0, 0], [1, 2, 1]], dtype=np.float32)\n",
    "vertical_filter = np.array([[-1, 0, 1], [-2, 0, 2], [-1, 0, 1]], dtype=np.float32)\n",
    "\n",
    "filters = np.stack([horizontal_filter, vertical_filter], axis=-1)\n",
    "filters = np.expand_dims(filters, axis=-1)\n",
    "\n",
    "# Apply convolution to first image in MNIST dataset\n",
    "output = convolve(x_train[0], filters)\n",
    "\n",
    "# Plot input image and output feature maps\n",
    "fig, ax = plt.subplots(nrows=1, ncols=3, figsize=(12, 4))\n",
    "\n",
    "ax[0].imshow(x_train[0], cmap='gray')\n",
    "ax[0].set_title('Input Image')\n",
    "\n",
    "ax[1].imshow(output[:, :, 0], cmap='gray')\n",
    "ax[1].set_title('Horizontal Edges')\n",
    "\n",
    "ax[2].imshow(output[:, :, 1], cmap='gray')\n",
    "ax[2].set_title('Vertical Edges')\n",
    "\n",
    "plt.show()"
   ]
  },
  {
   "cell_type": "code",
   "execution_count": 18,
   "id": "be3a51aa-5fd1-41d5-be05-c75d551f7250",
   "metadata": {
    "collapsed": true,
    "jupyter": {
     "outputs_hidden": true,
     "source_hidden": true
    },
    "tags": []
   },
   "outputs": [
    {
     "data": {
      "image/png": "[encoded data removed]",
      "text/plain": [
       "<Figure size 640x480 with 3 Axes>"
      ]
     },
     "metadata": {},
     "output_type": "display_data"
    }
   ],
   "source": [
    "import numpy as np\n",
    "\n",
    "def convolve2d(input_layer, filters, stride=1):\n",
    "    # Get input layer and filter dimensions\n",
    "    batch_size, input_rows, input_cols, input_channels = input_layer.shape\n",
    "    filter_rows, filter_cols, filter_channels, num_filters = filters.shape\n",
    "    \n",
    "    # Calculate output dimensions\n",
    "    output_rows = int((input_rows - filter_rows) / stride) + 1\n",
    "    output_cols = int((input_cols - filter_cols) / stride) + 1\n",
    "    \n",
    "    # Initialize output layer\n",
    "    output_layer = np.zeros((batch_size, output_rows, output_cols, num_filters))\n",
    "    \n",
    "    # Perform convolution\n",
    "    for r in range(output_rows):\n",
    "        for c in range(output_cols):\n",
    "            output_layer[:, r, c, :] = np.sum(\n",
    "                input_layer[:, r*stride:r*stride+filter_rows, c*stride:c*stride+filter_cols, :, np.newaxis] *\n",
    "                filters[np.newaxis, :, :, :, :], axis=(1, 2, 3))\n",
    "    \n",
    "    return output_layer\n",
    "\n",
    "\n",
    "\n",
    "# Load example image\n",
    "from keras.datasets import mnist\n",
    "(x_train, y_train), (x_test, y_test) = mnist.load_data()\n",
    "input_layer = x_train[0:1, :, :, np.newaxis] / 255.0  # Scale pixel values to [0, 1]\n",
    "\n",
    "# Define filters\n",
    "horizontal_edge_filter = np.array([[-1, -2, -1], [0, 0, 0], [1, 2, 1]])[:, :, np.newaxis, np.newaxis]\n",
    "vertical_edge_filter = np.array([[-1, 0, 1], [-2, 0, 2], [-1, 0, 1]])[:, :, np.newaxis, np.newaxis]\n",
    "filters = np.concatenate([horizontal_edge_filter, vertical_edge_filter], axis=3)\n",
    "\n",
    "# Perform convolution\n",
    "output_layer = convolve2d(input_layer, filters)\n",
    "\n",
    "# Visualize results\n",
    "import matplotlib.pyplot as plt\n",
    "plt.subplot(131)\n",
    "plt.imshow(input_layer[0, :, :, 0], cmap='gray')\n",
    "plt.title('Input layer')\n",
    "plt.axis('off')\n",
    "plt.subplot(132)\n",
    "plt.imshow(output_layer[0, :, :, 0], cmap='gray')\n",
    "plt.title('Horizontal edge filter')\n",
    "plt.axis('off')\n",
    "plt.subplot(133)\n",
    "plt.imshow(output_layer[0, :, :, 1], cmap='gray')\n",
    "plt.title('Vertical edge filter')\n",
    "plt.axis('off')\n",
    "plt.show()"
   ]
  },
  {
   "cell_type": "code",
   "execution_count": 46,
   "id": "666642b9-2069-4d78-bf9d-603f8f581987",
   "metadata": {},
   "outputs": [
    {
     "data": {
      "image/png": "[encoded data removed]",
      "text/plain": [
       "<Figure size 1000x500 with 3 Axes>"
      ]
     },
     "metadata": {},
     "output_type": "display_data"
    }
   ],
   "source": [
    "# Define a convolution function with four input parameters:\n",
    "#    img: the input image (numpy array)\n",
    "#    filters: a set of filters (numpy array)\n",
    "#    b: bias term for each filter (scalar)\n",
    "#    pad: the number of padding pixels (default=1)\n",
    "#    stride: the stride length for the convolution operation (default=1)\n",
    "\n",
    "def convolution(image, kernels, b, pad=1, stride=1):\n",
    "    \n",
    "    # unpacks the dimensions of the input image\n",
    "    img_b, img_d, img_h, img_w = image.shape \n",
    "    # unpacks the dimensions of the kernels (filters)\n",
    "    ker_b, ker_d, ker_h, ker_w = kernels.shape\n",
    "    # Pad the input image with zeros to retain spatial dimensions and edge information during the convolutional operation\n",
    "    pad_img = np.pad(image, ((0,0),(0,0),(1,1),(1,1)), mode='constant')\n",
    "\n",
    "    # Calculate the height and width of the output feature maps. \n",
    "    # The formula used here gives the number of times the filter can be convolved with the input image. \n",
    "    out_h = int((img_h - ker_h) + (2 * pad) / stride) + 1  \n",
    "    out_w = int((img_w - ker_w) + (2 * pad) / stride) + 1  \n",
    "\n",
    "#Create the sliding window for convolution. The variables i, j, and k represent the spatial coordinates and the channel number, respectively. \n",
    "#The select_img variable selects the corresponding pixels for each position of the sliding window. The select_filters variable reshapes the \n",
    "#filters into a 2D array for matrix multiplication with select_img. The result is then reshaped into a 4D tensor to match the dimensions of \n",
    "#the output feature maps.\n",
    "    \n",
    "    i0 = np.repeat(np.arange(ker_h), ker_h)\n",
    "    i1 = np.repeat(np.arange(img_h), img_h)\n",
    "    j0 = np.tile(np.arange(ker_w), ker_h)\n",
    "    j1 = np.tile(np.arange(img_h), img_w)\n",
    "    i = i0.reshape(-1,1) + i1.reshape(1,-1)\n",
    "    j = j0.reshape(-1,1) + j1.reshape(1,-1)\n",
    "    k = np.repeat(np.arange(img_d), ker_h * ker_w).reshape(-1,1)\n",
    "\n",
    "    \n",
    "    # Select the appropriate pixels for each position of the sliding window using i, j, and k  \n",
    "    # The squeeze() function is used to remove any dimensions of size 1 from the resulting array.\n",
    "    select_img = pad_img[:,:,i,j].squeeze() \n",
    "    \n",
    "    # Reshape the set of filters into a 2D array for matrix multiplication with the image\n",
    "    select_filters = filters.reshape(ker_b, -1)\n",
    "    # Matrix multiplication\n",
    "    convolve = select_filters @ select_img\n",
    "    # Reshaped the output into a 4D  to match the dimensions of the output feature maps.\n",
    "    convolve = convolve.reshape(ker_b, 1, out_h, out_w)\n",
    "\n",
    "    return convolve\n",
    "\n",
    "# Example usage\n",
    "\n",
    "# Load a sample image from the MNIST dataset\n",
    "from keras.datasets import mnist\n",
    "(x_train, y_train), (x_test, y_test) = mnist.load_data()\n",
    "img = x_train[0]\n",
    "\n",
    "img = img.reshape(1, 1, img.shape[0], img.shape[1])\n",
    "\n",
    "# Define two filters for detecting horizontal and vertical edges\n",
    "filter1 = np.array([[[-1,0,1], [-1,0,1], [-1,0,1]]])\n",
    "filter2 = np.array([[[-1,-1,-1], [0,0,0], [1,1,1]]])\n",
    "filters = np.concatenate((filter1, filter2), axis=0)\n",
    "filters = np.expand_dims(filters, axis=1)  # add a new dimension for each filter\n",
    "\n",
    "# Convolve the filters with the input image\n",
    "output_layer = convolution(img, filters, b=0, pad=1, stride=1)\n",
    "\n",
    "# Plot the input image and the convolved feature maps\n",
    "plt.figure(figsize=(10, 5))\n",
    "plt.subplot(1, 3, 1)\n",
    "plt.imshow(img[0, 0], cmap='gray')\n",
    "plt.title('Input Image')\n",
    "plt.axis('off')\n",
    "\n",
    "plt.subplot(1, 3, 2)\n",
    "plt.imshow(output_layer[0, 0], cmap='gray')\n",
    "plt.title('Filter 1')\n",
    "plt.axis('off')\n",
    "\n",
    "plt.subplot(1, 3, 3)\n",
    "plt.imshow(output_layer[1, 0], cmap='gray')\n",
    "plt.title('Filter 2')\n",
    "plt.axis('off')\n",
    "\n",
    "plt.show()"
   ]
  },
  {
   "cell_type": "markdown",
   "id": "83be45f4-d1b8-4c65-a2c8-08663504414d",
   "metadata": {},
   "source": [
    "Question 11: Write a simple function that achieves rectified linear (relu) activation over a whole feature map, with a threshold at zero. In your answer, give the code you have written and one of the previous convolved images after this operation. (2 points)"
   ]
  },
  {
   "cell_type": "code",
   "execution_count": 48,
   "id": "9bf8c41c-414f-437c-a8d7-2b901e8616f0",
   "metadata": {},
   "outputs": [
    {
     "data": {
      "image/png": "[encoded data removed]",
      "text/plain": [
       "<Figure size 640x480 with 1 Axes>"
      ]
     },
     "metadata": {},
     "output_type": "display_data"
    },
    {
     "name": "stdout",
     "output_type": "stream",
     "text": [
      "/bin/bash: -c: line 0: syntax error near unexpected token `('\n",
      "/bin/bash: -c: line 0: `[Relu activation result](relu_result.png)'\n"
     ]
    }
   ],
   "source": [
    "def relu_activation(input_layer, threshold=0):\n",
    "    return np.maximum(input_layer, threshold)\n",
    "\n",
    "# Perform relu activation on one of the convolved images\n",
    "relu_output = relu_activation(output_layer[0, :, :, 0], threshold=0)\n",
    "\n",
    "# Visualize the result\n",
    "plt.imshow(relu_output, cmap='gray')\n",
    "plt.title('Relu activation result')\n",
    "plt.axis('off')\n",
    "plt.show()\n",
    "\n",
    "\n",
    "![Relu activation result](relu_result.png)"
   ]
  },
  {
   "cell_type": "code",
   "execution_count": 37,
   "id": "2f6255c9-8030-4b74-ad80-e4ecb3fec170",
   "metadata": {},
   "outputs": [
    {
     "data": {
      "text/plain": [
       "(26, 26)"
      ]
     },
     "execution_count": 37,
     "metadata": {},
     "output_type": "execute_result"
    }
   ],
   "source": [
    "output_layer[0, :, :, 0].shape"
   ]
  },
  {
   "cell_type": "code",
   "execution_count": 33,
   "id": "2b5c76f6-4f2b-4a00-9443-1938ea9b4cdf",
   "metadata": {},
   "outputs": [
    {
     "data": {
      "text/plain": [
       "(26, 26)"
      ]
     },
     "execution_count": 33,
     "metadata": {},
     "output_type": "execute_result"
    }
   ],
   "source": [
    "relu_output.shape"
   ]
  },
  {
   "cell_type": "markdown",
   "id": "9395dca3-be08-4980-99a1-f76b5903e95b",
   "metadata": {},
   "source": [
    "Question 12: Write a simple function that achieves max pooling. This should allow you to specify the spatial extent of the pooling, with the size of the output feature map changing accordingly. In your answer, give the code you have written and the image from the previous question after pooling with a 2x2 kernal. (3 points)"
   ]
  },
  {
   "cell_type": "code",
   "execution_count": 48,
   "id": "e9d8c448-a864-4d96-b88b-348168b89c66",
   "metadata": {},
   "outputs": [
    {
     "data": {
      "image/png": "[encoded data removed]",
      "text/plain": [
       "<Figure size 640x480 with 1 Axes>"
      ]
     },
     "metadata": {},
     "output_type": "display_data"
    },
    {
     "name": "stdout",
     "output_type": "stream",
     "text": [
      "/bin/bash: -c: line 0: syntax error near unexpected token `('\n",
      "/bin/bash: -c: line 0: `[Max pooling result](pooling_result.png)'\n"
     ]
    }
   ],
   "source": [
    "def max_pooling(input_layer, pool_size=2):\n",
    "    input_shape = input_layer.shape\n",
    "    batch_size = input_shape[0]\n",
    "    input_rows, input_cols = input_shape[1], input_shape[2]\n",
    "    \n",
    "    output_rows = input_rows // pool_size\n",
    "    output_cols = input_cols // pool_size\n",
    "    \n",
    "    output_layer = np.zeros((batch_size, output_rows, output_cols))\n",
    "    \n",
    "    for r in range(output_rows):\n",
    "        for c in range(output_cols):\n",
    "            output_layer[:, r, c] = np.max(input_layer[:, r*pool_size:(r+1)*pool_size, c*pool_size:(c+1)*pool_size], axis=(1, 2))\n",
    "    \n",
    "    return output_layer\n",
    "\n",
    "\n",
    "# Perform max pooling on the relu output from the previous question\n",
    "input_layer = relu_output[np.newaxis, :, :]\n",
    "pooled_output = max_pooling(input_layer, pool_size=2)\n",
    "\n",
    "# Visualize the result\n",
    "pooled_output = np.squeeze(pooled_output)\n",
    "plt.imshow(pooled_output, cmap='gray')\n",
    "plt.title('Max pooling result')\n",
    "plt.axis('off')\n",
    "plt.show()\n",
    "\n",
    "\n",
    "![Max pooling result](pooling_result.png)"
   ]
  },
  {
   "cell_type": "code",
   "execution_count": 43,
   "id": "ac9c0ba5-ec79-4435-8a00-034961480821",
   "metadata": {},
   "outputs": [
    {
     "data": {
      "text/plain": [
       "26"
      ]
     },
     "execution_count": 43,
     "metadata": {},
     "output_type": "execute_result"
    }
   ],
   "source": [
    "input_shape = input_layer.shape\n",
    "input_shape[2] "
   ]
  },
  {
   "cell_type": "markdown",
   "id": "fe43be64-d206-4349-9024-e44446dae7af",
   "metadata": {},
   "source": [
    "Question 13: Write a simple function that achieves normalisation within each feature map, modifying the feature map so that its mean value is zero and its standard deviation is one. In your answer, give the code you have written. (2 points)"
   ]
  },
  {
   "cell_type": "code",
   "execution_count": null,
   "id": "45dc8f17-379f-4242-8a1a-fc8a6fc190f2",
   "metadata": {},
   "outputs": [],
   "source": [
    "def normalize_feature_map(feature_map):\n",
    "    mean = np.mean(feature_map)\n",
    "    std = np.std(feature_map)\n",
    "    return (feature_map - mean) / std\n",
    "\n",
    "pooled_output = max_pooling(input_layer, pool_size=2)\n",
    "normalized_output = normalize_feature_map(pooled_output)\n"
   ]
  },
  {
   "cell_type": "markdown",
   "id": "0b323c09-3b4e-42b0-a060-6abf2e918af4",
   "metadata": {},
   "source": [
    "Question 14: Write a function that produces a fully-connected layer. This should allow you to specify the number of output nodes, and link each of these to every node in an input stack of feature maps. You should probably begin by flattening this stack of feature maps into a 1-dimensional matrix. In your answer, give the code you have written. (5 points)"
   ]
  },
  {
   "cell_type": "code",
   "execution_count": null,
   "id": "25c26bb5-2ed9-4109-a615-267d9cebfa13",
   "metadata": {},
   "outputs": [],
   "source": [
    "def fully_connected_layer(input_stack, output_nodes):\n",
    "    input_stack_flattened = input_stack.reshape(input_stack.shape[0], -1)\n",
    "    weights = np.random.randn(input_stack_flattened.shape[1], output_nodes) / np.sqrt(input_stack_flattened.shape[1])\n",
    "    biases = np.zeros((1, output_nodes))\n",
    "    output = np.dot(input_stack_flattened, weights) + biases\n",
    "    return output"
   ]
  },
  {
   "cell_type": "markdown",
   "id": "fc2a3e6c-0a42-4df7-8f27-2427a409179c",
   "metadata": {},
   "source": [
    "Question 15: Write a function that converts the activation of a 1-dimensional matrix (such as the output of a fully-connected layer) into a set of probabilities that each matrix element is the most likely classification. This should include the algorithmic expression of a softmax (normalised exponential) function. In your answer, give the code you have written. (2 points)"
   ]
  },
  {
   "cell_type": "code",
   "execution_count": null,
   "id": "c654c161-7a4b-4044-b156-ac05978625db",
   "metadata": {},
   "outputs": [],
   "source": [
    "def softmax(input_matrix):\n",
    "    exp_input = np.exp(input_matrix)\n",
    "    sum_exp_input = np.sum(exp_input, axis=1, keepdims=True)\n",
    "    output = exp_input / sum_exp_input\n",
    "    return output\n"
   ]
  },
  {
   "cell_type": "markdown",
   "id": "9f2ccf05-d560-402a-a3d8-cc3b89326997",
   "metadata": {},
   "source": [
    "# Exercise 4: Exam study"
   ]
  },
  {
   "cell_type": "code",
   "execution_count": null,
   "id": "2289492e-c34c-4735-b643-df5e1a9e3e5b",
   "metadata": {},
   "outputs": [],
   "source": []
  }
 ],
 "metadata": {
  "kernelspec": {
   "display_name": "Python 3 (ipykernel)",
   "language": "python",
   "name": "python3"
  },
  "language_info": {
   "codemirror_mode": {
    "name": "ipython",
    "version": 3
   },
   "file_extension": ".py",
   "mimetype": "text/x-python",
   "name": "python",
   "nbconvert_exporter": "python",
   "pygments_lexer": "ipython3",
   "version": "3.10.9"
  }
 },
 "nbformat": 4,
 "nbformat_minor": 5
}
